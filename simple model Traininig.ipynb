{
 "cells": [
  {
   "cell_type": "code",
   "execution_count": 1,
   "id": "0d7b3104",
   "metadata": {},
   "outputs": [],
   "source": [
    "import pandas as pd"
   ]
  },
  {
   "cell_type": "code",
   "execution_count": 3,
   "id": "c33f8477",
   "metadata": {},
   "outputs": [],
   "source": [
    "df=pd.read_csv(\"airfoil_self_noise.dat\",sep=\"\\t\",header=None)"
   ]
  },
  {
   "cell_type": "code",
   "execution_count": 4,
   "id": "c8011327",
   "metadata": {},
   "outputs": [
    {
     "data": {
      "text/html": [
       "<div>\n",
       "<style scoped>\n",
       "    .dataframe tbody tr th:only-of-type {\n",
       "        vertical-align: middle;\n",
       "    }\n",
       "\n",
       "    .dataframe tbody tr th {\n",
       "        vertical-align: top;\n",
       "    }\n",
       "\n",
       "    .dataframe thead th {\n",
       "        text-align: right;\n",
       "    }\n",
       "</style>\n",
       "<table border=\"1\" class=\"dataframe\">\n",
       "  <thead>\n",
       "    <tr style=\"text-align: right;\">\n",
       "      <th></th>\n",
       "      <th>0</th>\n",
       "      <th>1</th>\n",
       "      <th>2</th>\n",
       "      <th>3</th>\n",
       "      <th>4</th>\n",
       "      <th>5</th>\n",
       "    </tr>\n",
       "  </thead>\n",
       "  <tbody>\n",
       "    <tr>\n",
       "      <th>0</th>\n",
       "      <td>800</td>\n",
       "      <td>0.0</td>\n",
       "      <td>0.3048</td>\n",
       "      <td>71.3</td>\n",
       "      <td>0.002663</td>\n",
       "      <td>126.201</td>\n",
       "    </tr>\n",
       "    <tr>\n",
       "      <th>1</th>\n",
       "      <td>1000</td>\n",
       "      <td>0.0</td>\n",
       "      <td>0.3048</td>\n",
       "      <td>71.3</td>\n",
       "      <td>0.002663</td>\n",
       "      <td>125.201</td>\n",
       "    </tr>\n",
       "    <tr>\n",
       "      <th>2</th>\n",
       "      <td>1250</td>\n",
       "      <td>0.0</td>\n",
       "      <td>0.3048</td>\n",
       "      <td>71.3</td>\n",
       "      <td>0.002663</td>\n",
       "      <td>125.951</td>\n",
       "    </tr>\n",
       "    <tr>\n",
       "      <th>3</th>\n",
       "      <td>1600</td>\n",
       "      <td>0.0</td>\n",
       "      <td>0.3048</td>\n",
       "      <td>71.3</td>\n",
       "      <td>0.002663</td>\n",
       "      <td>127.591</td>\n",
       "    </tr>\n",
       "    <tr>\n",
       "      <th>4</th>\n",
       "      <td>2000</td>\n",
       "      <td>0.0</td>\n",
       "      <td>0.3048</td>\n",
       "      <td>71.3</td>\n",
       "      <td>0.002663</td>\n",
       "      <td>127.461</td>\n",
       "    </tr>\n",
       "    <tr>\n",
       "      <th>...</th>\n",
       "      <td>...</td>\n",
       "      <td>...</td>\n",
       "      <td>...</td>\n",
       "      <td>...</td>\n",
       "      <td>...</td>\n",
       "      <td>...</td>\n",
       "    </tr>\n",
       "    <tr>\n",
       "      <th>1498</th>\n",
       "      <td>2500</td>\n",
       "      <td>15.6</td>\n",
       "      <td>0.1016</td>\n",
       "      <td>39.6</td>\n",
       "      <td>0.052849</td>\n",
       "      <td>110.264</td>\n",
       "    </tr>\n",
       "    <tr>\n",
       "      <th>1499</th>\n",
       "      <td>3150</td>\n",
       "      <td>15.6</td>\n",
       "      <td>0.1016</td>\n",
       "      <td>39.6</td>\n",
       "      <td>0.052849</td>\n",
       "      <td>109.254</td>\n",
       "    </tr>\n",
       "    <tr>\n",
       "      <th>1500</th>\n",
       "      <td>4000</td>\n",
       "      <td>15.6</td>\n",
       "      <td>0.1016</td>\n",
       "      <td>39.6</td>\n",
       "      <td>0.052849</td>\n",
       "      <td>106.604</td>\n",
       "    </tr>\n",
       "    <tr>\n",
       "      <th>1501</th>\n",
       "      <td>5000</td>\n",
       "      <td>15.6</td>\n",
       "      <td>0.1016</td>\n",
       "      <td>39.6</td>\n",
       "      <td>0.052849</td>\n",
       "      <td>106.224</td>\n",
       "    </tr>\n",
       "    <tr>\n",
       "      <th>1502</th>\n",
       "      <td>6300</td>\n",
       "      <td>15.6</td>\n",
       "      <td>0.1016</td>\n",
       "      <td>39.6</td>\n",
       "      <td>0.052849</td>\n",
       "      <td>104.204</td>\n",
       "    </tr>\n",
       "  </tbody>\n",
       "</table>\n",
       "<p>1503 rows × 6 columns</p>\n",
       "</div>"
      ],
      "text/plain": [
       "         0     1       2     3         4        5\n",
       "0      800   0.0  0.3048  71.3  0.002663  126.201\n",
       "1     1000   0.0  0.3048  71.3  0.002663  125.201\n",
       "2     1250   0.0  0.3048  71.3  0.002663  125.951\n",
       "3     1600   0.0  0.3048  71.3  0.002663  127.591\n",
       "4     2000   0.0  0.3048  71.3  0.002663  127.461\n",
       "...    ...   ...     ...   ...       ...      ...\n",
       "1498  2500  15.6  0.1016  39.6  0.052849  110.264\n",
       "1499  3150  15.6  0.1016  39.6  0.052849  109.254\n",
       "1500  4000  15.6  0.1016  39.6  0.052849  106.604\n",
       "1501  5000  15.6  0.1016  39.6  0.052849  106.224\n",
       "1502  6300  15.6  0.1016  39.6  0.052849  104.204\n",
       "\n",
       "[1503 rows x 6 columns]"
      ]
     },
     "execution_count": 4,
     "metadata": {},
     "output_type": "execute_result"
    }
   ],
   "source": [
    "df\n"
   ]
  },
  {
   "cell_type": "markdown",
   "id": "8ee427e9",
   "metadata": {},
   "source": [
    "# Data Information"
   ]
  },
  {
   "cell_type": "markdown",
   "id": "d0b08217",
   "metadata": {},
   "source": [
    "#### Data Set Information:\n",
    "\n",
    "The NASA data set comprises different size NACA 0012 airfoils at various wind tunnel speeds and angles of attack. The span of the airfoil and the observer position were the same in all of the experiments.\n",
    "\n",
    "\n",
    "Attribute Information:\n",
    "\n",
    "This problem has the following inputs:\n",
    "1. Frequency, in Hertzs.\n",
    "2. Angle of attack, in degrees.\n",
    "3. Chord length, in meters.\n",
    "4. Free-stream velocity, in meters per second.\n",
    "5. Suction side displacement thickness, in meters.\n",
    "\n",
    "The only output is:\n",
    "6. Scaled sound pressure level, in decibels"
   ]
  },
  {
   "cell_type": "code",
   "execution_count": 5,
   "id": "62a6eda0",
   "metadata": {},
   "outputs": [
    {
     "data": {
      "text/html": [
       "<div>\n",
       "<style scoped>\n",
       "    .dataframe tbody tr th:only-of-type {\n",
       "        vertical-align: middle;\n",
       "    }\n",
       "\n",
       "    .dataframe tbody tr th {\n",
       "        vertical-align: top;\n",
       "    }\n",
       "\n",
       "    .dataframe thead th {\n",
       "        text-align: right;\n",
       "    }\n",
       "</style>\n",
       "<table border=\"1\" class=\"dataframe\">\n",
       "  <thead>\n",
       "    <tr style=\"text-align: right;\">\n",
       "      <th></th>\n",
       "      <th>0</th>\n",
       "      <th>1</th>\n",
       "      <th>2</th>\n",
       "      <th>3</th>\n",
       "      <th>4</th>\n",
       "      <th>5</th>\n",
       "    </tr>\n",
       "  </thead>\n",
       "  <tbody>\n",
       "    <tr>\n",
       "      <th>0</th>\n",
       "      <td>800</td>\n",
       "      <td>0.0</td>\n",
       "      <td>0.3048</td>\n",
       "      <td>71.3</td>\n",
       "      <td>0.002663</td>\n",
       "      <td>126.201</td>\n",
       "    </tr>\n",
       "    <tr>\n",
       "      <th>1</th>\n",
       "      <td>1000</td>\n",
       "      <td>0.0</td>\n",
       "      <td>0.3048</td>\n",
       "      <td>71.3</td>\n",
       "      <td>0.002663</td>\n",
       "      <td>125.201</td>\n",
       "    </tr>\n",
       "    <tr>\n",
       "      <th>2</th>\n",
       "      <td>1250</td>\n",
       "      <td>0.0</td>\n",
       "      <td>0.3048</td>\n",
       "      <td>71.3</td>\n",
       "      <td>0.002663</td>\n",
       "      <td>125.951</td>\n",
       "    </tr>\n",
       "    <tr>\n",
       "      <th>3</th>\n",
       "      <td>1600</td>\n",
       "      <td>0.0</td>\n",
       "      <td>0.3048</td>\n",
       "      <td>71.3</td>\n",
       "      <td>0.002663</td>\n",
       "      <td>127.591</td>\n",
       "    </tr>\n",
       "    <tr>\n",
       "      <th>4</th>\n",
       "      <td>2000</td>\n",
       "      <td>0.0</td>\n",
       "      <td>0.3048</td>\n",
       "      <td>71.3</td>\n",
       "      <td>0.002663</td>\n",
       "      <td>127.461</td>\n",
       "    </tr>\n",
       "  </tbody>\n",
       "</table>\n",
       "</div>"
      ],
      "text/plain": [
       "      0    1       2     3         4        5\n",
       "0   800  0.0  0.3048  71.3  0.002663  126.201\n",
       "1  1000  0.0  0.3048  71.3  0.002663  125.201\n",
       "2  1250  0.0  0.3048  71.3  0.002663  125.951\n",
       "3  1600  0.0  0.3048  71.3  0.002663  127.591\n",
       "4  2000  0.0  0.3048  71.3  0.002663  127.461"
      ]
     },
     "execution_count": 5,
     "metadata": {},
     "output_type": "execute_result"
    }
   ],
   "source": [
    "df.head()"
   ]
  },
  {
   "cell_type": "code",
   "execution_count": 6,
   "id": "d0d79ec0",
   "metadata": {},
   "outputs": [],
   "source": [
    "\n",
    "df.columns=[\"Frequency\",\"AngleofAttack\",\"ChordLen\",\"Free_steam_velocity\",\"Suction_displacemnt\",\"Sound_pressure_level\"]"
   ]
  },
  {
   "cell_type": "code",
   "execution_count": 7,
   "id": "8075e4b3",
   "metadata": {},
   "outputs": [
    {
     "data": {
      "text/html": [
       "<div>\n",
       "<style scoped>\n",
       "    .dataframe tbody tr th:only-of-type {\n",
       "        vertical-align: middle;\n",
       "    }\n",
       "\n",
       "    .dataframe tbody tr th {\n",
       "        vertical-align: top;\n",
       "    }\n",
       "\n",
       "    .dataframe thead th {\n",
       "        text-align: right;\n",
       "    }\n",
       "</style>\n",
       "<table border=\"1\" class=\"dataframe\">\n",
       "  <thead>\n",
       "    <tr style=\"text-align: right;\">\n",
       "      <th></th>\n",
       "      <th>Frequency</th>\n",
       "      <th>AngleofAttack</th>\n",
       "      <th>ChordLen</th>\n",
       "      <th>Free_steam_velocity</th>\n",
       "      <th>Suction_displacemnt</th>\n",
       "      <th>Sound_pressure_level</th>\n",
       "    </tr>\n",
       "  </thead>\n",
       "  <tbody>\n",
       "    <tr>\n",
       "      <th>0</th>\n",
       "      <td>800</td>\n",
       "      <td>0.0</td>\n",
       "      <td>0.3048</td>\n",
       "      <td>71.3</td>\n",
       "      <td>0.002663</td>\n",
       "      <td>126.201</td>\n",
       "    </tr>\n",
       "    <tr>\n",
       "      <th>1</th>\n",
       "      <td>1000</td>\n",
       "      <td>0.0</td>\n",
       "      <td>0.3048</td>\n",
       "      <td>71.3</td>\n",
       "      <td>0.002663</td>\n",
       "      <td>125.201</td>\n",
       "    </tr>\n",
       "    <tr>\n",
       "      <th>2</th>\n",
       "      <td>1250</td>\n",
       "      <td>0.0</td>\n",
       "      <td>0.3048</td>\n",
       "      <td>71.3</td>\n",
       "      <td>0.002663</td>\n",
       "      <td>125.951</td>\n",
       "    </tr>\n",
       "    <tr>\n",
       "      <th>3</th>\n",
       "      <td>1600</td>\n",
       "      <td>0.0</td>\n",
       "      <td>0.3048</td>\n",
       "      <td>71.3</td>\n",
       "      <td>0.002663</td>\n",
       "      <td>127.591</td>\n",
       "    </tr>\n",
       "    <tr>\n",
       "      <th>4</th>\n",
       "      <td>2000</td>\n",
       "      <td>0.0</td>\n",
       "      <td>0.3048</td>\n",
       "      <td>71.3</td>\n",
       "      <td>0.002663</td>\n",
       "      <td>127.461</td>\n",
       "    </tr>\n",
       "    <tr>\n",
       "      <th>...</th>\n",
       "      <td>...</td>\n",
       "      <td>...</td>\n",
       "      <td>...</td>\n",
       "      <td>...</td>\n",
       "      <td>...</td>\n",
       "      <td>...</td>\n",
       "    </tr>\n",
       "    <tr>\n",
       "      <th>1498</th>\n",
       "      <td>2500</td>\n",
       "      <td>15.6</td>\n",
       "      <td>0.1016</td>\n",
       "      <td>39.6</td>\n",
       "      <td>0.052849</td>\n",
       "      <td>110.264</td>\n",
       "    </tr>\n",
       "    <tr>\n",
       "      <th>1499</th>\n",
       "      <td>3150</td>\n",
       "      <td>15.6</td>\n",
       "      <td>0.1016</td>\n",
       "      <td>39.6</td>\n",
       "      <td>0.052849</td>\n",
       "      <td>109.254</td>\n",
       "    </tr>\n",
       "    <tr>\n",
       "      <th>1500</th>\n",
       "      <td>4000</td>\n",
       "      <td>15.6</td>\n",
       "      <td>0.1016</td>\n",
       "      <td>39.6</td>\n",
       "      <td>0.052849</td>\n",
       "      <td>106.604</td>\n",
       "    </tr>\n",
       "    <tr>\n",
       "      <th>1501</th>\n",
       "      <td>5000</td>\n",
       "      <td>15.6</td>\n",
       "      <td>0.1016</td>\n",
       "      <td>39.6</td>\n",
       "      <td>0.052849</td>\n",
       "      <td>106.224</td>\n",
       "    </tr>\n",
       "    <tr>\n",
       "      <th>1502</th>\n",
       "      <td>6300</td>\n",
       "      <td>15.6</td>\n",
       "      <td>0.1016</td>\n",
       "      <td>39.6</td>\n",
       "      <td>0.052849</td>\n",
       "      <td>104.204</td>\n",
       "    </tr>\n",
       "  </tbody>\n",
       "</table>\n",
       "<p>1503 rows × 6 columns</p>\n",
       "</div>"
      ],
      "text/plain": [
       "      Frequency  AngleofAttack  ChordLen  Free_steam_velocity  \\\n",
       "0           800            0.0    0.3048                 71.3   \n",
       "1          1000            0.0    0.3048                 71.3   \n",
       "2          1250            0.0    0.3048                 71.3   \n",
       "3          1600            0.0    0.3048                 71.3   \n",
       "4          2000            0.0    0.3048                 71.3   \n",
       "...         ...            ...       ...                  ...   \n",
       "1498       2500           15.6    0.1016                 39.6   \n",
       "1499       3150           15.6    0.1016                 39.6   \n",
       "1500       4000           15.6    0.1016                 39.6   \n",
       "1501       5000           15.6    0.1016                 39.6   \n",
       "1502       6300           15.6    0.1016                 39.6   \n",
       "\n",
       "      Suction_displacemnt  Sound_pressure_level  \n",
       "0                0.002663               126.201  \n",
       "1                0.002663               125.201  \n",
       "2                0.002663               125.951  \n",
       "3                0.002663               127.591  \n",
       "4                0.002663               127.461  \n",
       "...                   ...                   ...  \n",
       "1498             0.052849               110.264  \n",
       "1499             0.052849               109.254  \n",
       "1500             0.052849               106.604  \n",
       "1501             0.052849               106.224  \n",
       "1502             0.052849               104.204  \n",
       "\n",
       "[1503 rows x 6 columns]"
      ]
     },
     "execution_count": 7,
     "metadata": {},
     "output_type": "execute_result"
    }
   ],
   "source": [
    "df"
   ]
  },
  {
   "cell_type": "code",
   "execution_count": 8,
   "id": "cd898b24",
   "metadata": {},
   "outputs": [
    {
     "data": {
      "text/plain": [
       "RangeIndex(start=0, stop=1503, step=1)"
      ]
     },
     "execution_count": 8,
     "metadata": {},
     "output_type": "execute_result"
    }
   ],
   "source": [
    "df.index"
   ]
  },
  {
   "cell_type": "code",
   "execution_count": 9,
   "id": "47565230",
   "metadata": {},
   "outputs": [
    {
     "data": {
      "text/plain": [
       "(1503, 6)"
      ]
     },
     "execution_count": 9,
     "metadata": {},
     "output_type": "execute_result"
    }
   ],
   "source": [
    "df.shape"
   ]
  },
  {
   "cell_type": "code",
   "execution_count": 10,
   "id": "55c207cb",
   "metadata": {},
   "outputs": [
    {
     "name": "stdout",
     "output_type": "stream",
     "text": [
      "<class 'pandas.core.frame.DataFrame'>\n",
      "RangeIndex: 1503 entries, 0 to 1502\n",
      "Data columns (total 6 columns):\n",
      " #   Column                Non-Null Count  Dtype  \n",
      "---  ------                --------------  -----  \n",
      " 0   Frequency             1503 non-null   int64  \n",
      " 1   AngleofAttack         1503 non-null   float64\n",
      " 2   ChordLen              1503 non-null   float64\n",
      " 3   Free_steam_velocity   1503 non-null   float64\n",
      " 4   Suction_displacemnt   1503 non-null   float64\n",
      " 5   Sound_pressure_level  1503 non-null   float64\n",
      "dtypes: float64(5), int64(1)\n",
      "memory usage: 70.6 KB\n"
     ]
    }
   ],
   "source": [
    "df.info()"
   ]
  },
  {
   "cell_type": "markdown",
   "id": "456dbd28",
   "metadata": {},
   "source": [
    "## all the attributes are in datatype (int or Float) so not to worry we can move further "
   ]
  },
  {
   "cell_type": "code",
   "execution_count": 11,
   "id": "71a0f3a0",
   "metadata": {},
   "outputs": [
    {
     "data": {
      "text/plain": [
       "Frequency               0\n",
       "AngleofAttack           0\n",
       "ChordLen                0\n",
       "Free_steam_velocity     0\n",
       "Suction_displacemnt     0\n",
       "Sound_pressure_level    0\n",
       "dtype: int64"
      ]
     },
     "execution_count": 11,
     "metadata": {},
     "output_type": "execute_result"
    }
   ],
   "source": [
    "df.isnull().sum()"
   ]
  },
  {
   "cell_type": "markdown",
   "id": "6a01a424",
   "metadata": {},
   "source": [
    "## There is no null value as well so its pretty good now ,lets split the data into train test and carry on with correaltion"
   ]
  },
  {
   "cell_type": "markdown",
   "id": "4fc43791",
   "metadata": {},
   "source": [
    "## Lets do Train Test Split"
   ]
  },
  {
   "cell_type": "code",
   "execution_count": 12,
   "id": "6d51155c",
   "metadata": {},
   "outputs": [
    {
     "data": {
      "text/html": [
       "<div>\n",
       "<style scoped>\n",
       "    .dataframe tbody tr th:only-of-type {\n",
       "        vertical-align: middle;\n",
       "    }\n",
       "\n",
       "    .dataframe tbody tr th {\n",
       "        vertical-align: top;\n",
       "    }\n",
       "\n",
       "    .dataframe thead th {\n",
       "        text-align: right;\n",
       "    }\n",
       "</style>\n",
       "<table border=\"1\" class=\"dataframe\">\n",
       "  <thead>\n",
       "    <tr style=\"text-align: right;\">\n",
       "      <th></th>\n",
       "      <th>Frequency</th>\n",
       "      <th>AngleofAttack</th>\n",
       "      <th>ChordLen</th>\n",
       "      <th>Free_steam_velocity</th>\n",
       "      <th>Suction_displacemnt</th>\n",
       "    </tr>\n",
       "  </thead>\n",
       "  <tbody>\n",
       "    <tr>\n",
       "      <th>0</th>\n",
       "      <td>800</td>\n",
       "      <td>0.0</td>\n",
       "      <td>0.3048</td>\n",
       "      <td>71.3</td>\n",
       "      <td>0.002663</td>\n",
       "    </tr>\n",
       "    <tr>\n",
       "      <th>1</th>\n",
       "      <td>1000</td>\n",
       "      <td>0.0</td>\n",
       "      <td>0.3048</td>\n",
       "      <td>71.3</td>\n",
       "      <td>0.002663</td>\n",
       "    </tr>\n",
       "    <tr>\n",
       "      <th>2</th>\n",
       "      <td>1250</td>\n",
       "      <td>0.0</td>\n",
       "      <td>0.3048</td>\n",
       "      <td>71.3</td>\n",
       "      <td>0.002663</td>\n",
       "    </tr>\n",
       "    <tr>\n",
       "      <th>3</th>\n",
       "      <td>1600</td>\n",
       "      <td>0.0</td>\n",
       "      <td>0.3048</td>\n",
       "      <td>71.3</td>\n",
       "      <td>0.002663</td>\n",
       "    </tr>\n",
       "    <tr>\n",
       "      <th>4</th>\n",
       "      <td>2000</td>\n",
       "      <td>0.0</td>\n",
       "      <td>0.3048</td>\n",
       "      <td>71.3</td>\n",
       "      <td>0.002663</td>\n",
       "    </tr>\n",
       "    <tr>\n",
       "      <th>...</th>\n",
       "      <td>...</td>\n",
       "      <td>...</td>\n",
       "      <td>...</td>\n",
       "      <td>...</td>\n",
       "      <td>...</td>\n",
       "    </tr>\n",
       "    <tr>\n",
       "      <th>1498</th>\n",
       "      <td>2500</td>\n",
       "      <td>15.6</td>\n",
       "      <td>0.1016</td>\n",
       "      <td>39.6</td>\n",
       "      <td>0.052849</td>\n",
       "    </tr>\n",
       "    <tr>\n",
       "      <th>1499</th>\n",
       "      <td>3150</td>\n",
       "      <td>15.6</td>\n",
       "      <td>0.1016</td>\n",
       "      <td>39.6</td>\n",
       "      <td>0.052849</td>\n",
       "    </tr>\n",
       "    <tr>\n",
       "      <th>1500</th>\n",
       "      <td>4000</td>\n",
       "      <td>15.6</td>\n",
       "      <td>0.1016</td>\n",
       "      <td>39.6</td>\n",
       "      <td>0.052849</td>\n",
       "    </tr>\n",
       "    <tr>\n",
       "      <th>1501</th>\n",
       "      <td>5000</td>\n",
       "      <td>15.6</td>\n",
       "      <td>0.1016</td>\n",
       "      <td>39.6</td>\n",
       "      <td>0.052849</td>\n",
       "    </tr>\n",
       "    <tr>\n",
       "      <th>1502</th>\n",
       "      <td>6300</td>\n",
       "      <td>15.6</td>\n",
       "      <td>0.1016</td>\n",
       "      <td>39.6</td>\n",
       "      <td>0.052849</td>\n",
       "    </tr>\n",
       "  </tbody>\n",
       "</table>\n",
       "<p>1503 rows × 5 columns</p>\n",
       "</div>"
      ],
      "text/plain": [
       "      Frequency  AngleofAttack  ChordLen  Free_steam_velocity  \\\n",
       "0           800            0.0    0.3048                 71.3   \n",
       "1          1000            0.0    0.3048                 71.3   \n",
       "2          1250            0.0    0.3048                 71.3   \n",
       "3          1600            0.0    0.3048                 71.3   \n",
       "4          2000            0.0    0.3048                 71.3   \n",
       "...         ...            ...       ...                  ...   \n",
       "1498       2500           15.6    0.1016                 39.6   \n",
       "1499       3150           15.6    0.1016                 39.6   \n",
       "1500       4000           15.6    0.1016                 39.6   \n",
       "1501       5000           15.6    0.1016                 39.6   \n",
       "1502       6300           15.6    0.1016                 39.6   \n",
       "\n",
       "      Suction_displacemnt  \n",
       "0                0.002663  \n",
       "1                0.002663  \n",
       "2                0.002663  \n",
       "3                0.002663  \n",
       "4                0.002663  \n",
       "...                   ...  \n",
       "1498             0.052849  \n",
       "1499             0.052849  \n",
       "1500             0.052849  \n",
       "1501             0.052849  \n",
       "1502             0.052849  \n",
       "\n",
       "[1503 rows x 5 columns]"
      ]
     },
     "execution_count": 12,
     "metadata": {},
     "output_type": "execute_result"
    }
   ],
   "source": [
    "X=df.iloc[:,:-1]\n",
    "X"
   ]
  },
  {
   "cell_type": "code",
   "execution_count": 13,
   "id": "11c2e024",
   "metadata": {},
   "outputs": [
    {
     "data": {
      "text/plain": [
       "0       126.201\n",
       "1       125.201\n",
       "2       125.951\n",
       "3       127.591\n",
       "4       127.461\n",
       "         ...   \n",
       "1498    110.264\n",
       "1499    109.254\n",
       "1500    106.604\n",
       "1501    106.224\n",
       "1502    104.204\n",
       "Name: Sound_pressure_level, Length: 1503, dtype: float64"
      ]
     },
     "execution_count": 13,
     "metadata": {},
     "output_type": "execute_result"
    }
   ],
   "source": [
    "y=df.iloc[:,-1]\n",
    "y"
   ]
  },
  {
   "cell_type": "code",
   "execution_count": 14,
   "id": "36e755e4",
   "metadata": {},
   "outputs": [],
   "source": [
    "from sklearn.model_selection import train_test_split"
   ]
  },
  {
   "cell_type": "code",
   "execution_count": 15,
   "id": "282b725e",
   "metadata": {},
   "outputs": [],
   "source": [
    "X_train,X_test,y_train,y_test=train_test_split(X,y,test_size=0.25,random_state=2)"
   ]
  },
  {
   "cell_type": "code",
   "execution_count": 16,
   "id": "2009dbfe",
   "metadata": {},
   "outputs": [
    {
     "data": {
      "text/html": [
       "<div>\n",
       "<style scoped>\n",
       "    .dataframe tbody tr th:only-of-type {\n",
       "        vertical-align: middle;\n",
       "    }\n",
       "\n",
       "    .dataframe tbody tr th {\n",
       "        vertical-align: top;\n",
       "    }\n",
       "\n",
       "    .dataframe thead th {\n",
       "        text-align: right;\n",
       "    }\n",
       "</style>\n",
       "<table border=\"1\" class=\"dataframe\">\n",
       "  <thead>\n",
       "    <tr style=\"text-align: right;\">\n",
       "      <th></th>\n",
       "      <th>Frequency</th>\n",
       "      <th>AngleofAttack</th>\n",
       "      <th>ChordLen</th>\n",
       "      <th>Free_steam_velocity</th>\n",
       "      <th>Suction_displacemnt</th>\n",
       "    </tr>\n",
       "  </thead>\n",
       "  <tbody>\n",
       "    <tr>\n",
       "      <th>719</th>\n",
       "      <td>2000</td>\n",
       "      <td>12.6</td>\n",
       "      <td>0.1524</td>\n",
       "      <td>39.6</td>\n",
       "      <td>0.058411</td>\n",
       "    </tr>\n",
       "    <tr>\n",
       "      <th>905</th>\n",
       "      <td>400</td>\n",
       "      <td>15.4</td>\n",
       "      <td>0.0508</td>\n",
       "      <td>39.6</td>\n",
       "      <td>0.028259</td>\n",
       "    </tr>\n",
       "    <tr>\n",
       "      <th>1279</th>\n",
       "      <td>8000</td>\n",
       "      <td>0.0</td>\n",
       "      <td>0.1016</td>\n",
       "      <td>39.6</td>\n",
       "      <td>0.001463</td>\n",
       "    </tr>\n",
       "    <tr>\n",
       "      <th>69</th>\n",
       "      <td>1600</td>\n",
       "      <td>1.5</td>\n",
       "      <td>0.3048</td>\n",
       "      <td>71.3</td>\n",
       "      <td>0.003367</td>\n",
       "    </tr>\n",
       "    <tr>\n",
       "      <th>272</th>\n",
       "      <td>400</td>\n",
       "      <td>2.0</td>\n",
       "      <td>0.2286</td>\n",
       "      <td>39.6</td>\n",
       "      <td>0.003466</td>\n",
       "    </tr>\n",
       "  </tbody>\n",
       "</table>\n",
       "</div>"
      ],
      "text/plain": [
       "      Frequency  AngleofAttack  ChordLen  Free_steam_velocity  \\\n",
       "719        2000           12.6    0.1524                 39.6   \n",
       "905         400           15.4    0.0508                 39.6   \n",
       "1279       8000            0.0    0.1016                 39.6   \n",
       "69         1600            1.5    0.3048                 71.3   \n",
       "272         400            2.0    0.2286                 39.6   \n",
       "\n",
       "      Suction_displacemnt  \n",
       "719              0.058411  \n",
       "905              0.028259  \n",
       "1279             0.001463  \n",
       "69               0.003367  \n",
       "272              0.003466  "
      ]
     },
     "execution_count": 16,
     "metadata": {},
     "output_type": "execute_result"
    }
   ],
   "source": [
    "X_test.head()"
   ]
  },
  {
   "cell_type": "code",
   "execution_count": 17,
   "id": "9c58bc4e",
   "metadata": {},
   "outputs": [
    {
     "data": {
      "text/html": [
       "<div>\n",
       "<style scoped>\n",
       "    .dataframe tbody tr th:only-of-type {\n",
       "        vertical-align: middle;\n",
       "    }\n",
       "\n",
       "    .dataframe tbody tr th {\n",
       "        vertical-align: top;\n",
       "    }\n",
       "\n",
       "    .dataframe thead th {\n",
       "        text-align: right;\n",
       "    }\n",
       "</style>\n",
       "<table border=\"1\" class=\"dataframe\">\n",
       "  <thead>\n",
       "    <tr style=\"text-align: right;\">\n",
       "      <th></th>\n",
       "      <th>Frequency</th>\n",
       "      <th>AngleofAttack</th>\n",
       "      <th>ChordLen</th>\n",
       "      <th>Free_steam_velocity</th>\n",
       "      <th>Suction_displacemnt</th>\n",
       "    </tr>\n",
       "  </thead>\n",
       "  <tbody>\n",
       "    <tr>\n",
       "      <th>535</th>\n",
       "      <td>4000</td>\n",
       "      <td>2.7</td>\n",
       "      <td>0.1524</td>\n",
       "      <td>39.6</td>\n",
       "      <td>0.002948</td>\n",
       "    </tr>\n",
       "    <tr>\n",
       "      <th>557</th>\n",
       "      <td>800</td>\n",
       "      <td>5.4</td>\n",
       "      <td>0.1524</td>\n",
       "      <td>55.5</td>\n",
       "      <td>0.004333</td>\n",
       "    </tr>\n",
       "    <tr>\n",
       "      <th>1140</th>\n",
       "      <td>2500</td>\n",
       "      <td>12.7</td>\n",
       "      <td>0.0254</td>\n",
       "      <td>39.6</td>\n",
       "      <td>0.013025</td>\n",
       "    </tr>\n",
       "    <tr>\n",
       "      <th>787</th>\n",
       "      <td>1000</td>\n",
       "      <td>4.2</td>\n",
       "      <td>0.0508</td>\n",
       "      <td>39.6</td>\n",
       "      <td>0.001527</td>\n",
       "    </tr>\n",
       "    <tr>\n",
       "      <th>1496</th>\n",
       "      <td>1600</td>\n",
       "      <td>15.6</td>\n",
       "      <td>0.1016</td>\n",
       "      <td>39.6</td>\n",
       "      <td>0.052849</td>\n",
       "    </tr>\n",
       "  </tbody>\n",
       "</table>\n",
       "</div>"
      ],
      "text/plain": [
       "      Frequency  AngleofAttack  ChordLen  Free_steam_velocity  \\\n",
       "535        4000            2.7    0.1524                 39.6   \n",
       "557         800            5.4    0.1524                 55.5   \n",
       "1140       2500           12.7    0.0254                 39.6   \n",
       "787        1000            4.2    0.0508                 39.6   \n",
       "1496       1600           15.6    0.1016                 39.6   \n",
       "\n",
       "      Suction_displacemnt  \n",
       "535              0.002948  \n",
       "557              0.004333  \n",
       "1140             0.013025  \n",
       "787              0.001527  \n",
       "1496             0.052849  "
      ]
     },
     "execution_count": 17,
     "metadata": {},
     "output_type": "execute_result"
    }
   ],
   "source": [
    "X_train.head()"
   ]
  },
  {
   "cell_type": "code",
   "execution_count": 18,
   "id": "8e8f9826",
   "metadata": {},
   "outputs": [],
   "source": [
    "import seaborn as sns"
   ]
  },
  {
   "cell_type": "code",
   "execution_count": 19,
   "id": "5073d381",
   "metadata": {},
   "outputs": [
    {
     "data": {
      "text/plain": [
       "<seaborn.axisgrid.PairGrid at 0x1b853b65370>"
      ]
     },
     "execution_count": 19,
     "metadata": {},
     "output_type": "execute_result"
    },
    {
     "data": {
      "image/png": "[encoded data removed]",
      "text/plain": [
       "<Figure size 900x900 with 30 Axes>"
      ]
     },
     "metadata": {
      "needs_background": "light"
     },
     "output_type": "display_data"
    }
   ],
   "source": [
    "sns.pairplot(X_train)"
   ]
  },
  {
   "cell_type": "code",
   "execution_count": 20,
   "id": "b228476c",
   "metadata": {},
   "outputs": [
    {
     "data": {
      "text/html": [
       "<div>\n",
       "<style scoped>\n",
       "    .dataframe tbody tr th:only-of-type {\n",
       "        vertical-align: middle;\n",
       "    }\n",
       "\n",
       "    .dataframe tbody tr th {\n",
       "        vertical-align: top;\n",
       "    }\n",
       "\n",
       "    .dataframe thead th {\n",
       "        text-align: right;\n",
       "    }\n",
       "</style>\n",
       "<table border=\"1\" class=\"dataframe\">\n",
       "  <thead>\n",
       "    <tr style=\"text-align: right;\">\n",
       "      <th></th>\n",
       "      <th>Frequency</th>\n",
       "      <th>AngleofAttack</th>\n",
       "      <th>ChordLen</th>\n",
       "      <th>Free_steam_velocity</th>\n",
       "      <th>Suction_displacemnt</th>\n",
       "    </tr>\n",
       "  </thead>\n",
       "  <tbody>\n",
       "    <tr>\n",
       "      <th>Frequency</th>\n",
       "      <td>1.000000</td>\n",
       "      <td>-0.285908</td>\n",
       "      <td>0.001796</td>\n",
       "      <td>0.118848</td>\n",
       "      <td>-0.236993</td>\n",
       "    </tr>\n",
       "    <tr>\n",
       "      <th>AngleofAttack</th>\n",
       "      <td>-0.285908</td>\n",
       "      <td>1.000000</td>\n",
       "      <td>-0.514265</td>\n",
       "      <td>0.066929</td>\n",
       "      <td>0.759773</td>\n",
       "    </tr>\n",
       "    <tr>\n",
       "      <th>ChordLen</th>\n",
       "      <td>0.001796</td>\n",
       "      <td>-0.514265</td>\n",
       "      <td>1.000000</td>\n",
       "      <td>-0.003043</td>\n",
       "      <td>-0.228574</td>\n",
       "    </tr>\n",
       "    <tr>\n",
       "      <th>Free_steam_velocity</th>\n",
       "      <td>0.118848</td>\n",
       "      <td>0.066929</td>\n",
       "      <td>-0.003043</td>\n",
       "      <td>1.000000</td>\n",
       "      <td>0.013465</td>\n",
       "    </tr>\n",
       "    <tr>\n",
       "      <th>Suction_displacemnt</th>\n",
       "      <td>-0.236993</td>\n",
       "      <td>0.759773</td>\n",
       "      <td>-0.228574</td>\n",
       "      <td>0.013465</td>\n",
       "      <td>1.000000</td>\n",
       "    </tr>\n",
       "  </tbody>\n",
       "</table>\n",
       "</div>"
      ],
      "text/plain": [
       "                     Frequency  AngleofAttack  ChordLen  Free_steam_velocity  \\\n",
       "Frequency             1.000000      -0.285908  0.001796             0.118848   \n",
       "AngleofAttack        -0.285908       1.000000 -0.514265             0.066929   \n",
       "ChordLen              0.001796      -0.514265  1.000000            -0.003043   \n",
       "Free_steam_velocity   0.118848       0.066929 -0.003043             1.000000   \n",
       "Suction_displacemnt  -0.236993       0.759773 -0.228574             0.013465   \n",
       "\n",
       "                     Suction_displacemnt  \n",
       "Frequency                      -0.236993  \n",
       "AngleofAttack                   0.759773  \n",
       "ChordLen                       -0.228574  \n",
       "Free_steam_velocity             0.013465  \n",
       "Suction_displacemnt             1.000000  "
      ]
     },
     "execution_count": 20,
     "metadata": {},
     "output_type": "execute_result"
    }
   ],
   "source": [
    "import matplotlib.pyplot as plt\n",
    "X_train.corr()"
   ]
  },
  {
   "cell_type": "code",
   "execution_count": 21,
   "id": "0ffc05cb",
   "metadata": {},
   "outputs": [
    {
     "data": {
      "text/plain": [
       "<AxesSubplot:>"
      ]
     },
     "execution_count": 21,
     "metadata": {},
     "output_type": "execute_result"
    },
    {
     "data": {
      "image/png": "[encoded data removed]",
      "text/plain": [
       "<Figure size 432x288 with 2 Axes>"
      ]
     },
     "metadata": {
      "needs_background": "light"
     },
     "output_type": "display_data"
    }
   ],
   "source": [
    "sns.heatmap(X_train.corr())"
   ]
  },
  {
   "cell_type": "code",
   "execution_count": 22,
   "id": "ceb63716",
   "metadata": {},
   "outputs": [
    {
     "name": "stderr",
     "output_type": "stream",
     "text": [
      "C:\\ANACONDA3\\lib\\site-packages\\seaborn\\_decorators.py:36: FutureWarning: Pass the following variable as a keyword arg: x. From version 0.12, the only valid positional argument will be `data`, and passing other arguments without an explicit keyword will result in an error or misinterpretation.\n",
      "  warnings.warn(\n"
     ]
    },
    {
     "data": {
      "text/plain": [
       "<AxesSubplot:xlabel='Frequency'>"
      ]
     },
     "execution_count": 22,
     "metadata": {},
     "output_type": "execute_result"
    },
    {
     "data": {
      "image/png": "[encoded data removed]",
      "text/plain": [
       "<Figure size 432x288 with 1 Axes>"
      ]
     },
     "metadata": {
      "needs_background": "light"
     },
     "output_type": "display_data"
    }
   ],
   "source": [
    "sns.boxplot(X_train[\"Frequency\"])"
   ]
  },
  {
   "cell_type": "code",
   "execution_count": 23,
   "id": "10f0ab82",
   "metadata": {},
   "outputs": [
    {
     "name": "stderr",
     "output_type": "stream",
     "text": [
      "C:\\ANACONDA3\\lib\\site-packages\\seaborn\\_decorators.py:36: FutureWarning: Pass the following variables as keyword args: x, y. From version 0.12, the only valid positional argument will be `data`, and passing other arguments without an explicit keyword will result in an error or misinterpretation.\n",
      "  warnings.warn(\n"
     ]
    },
    {
     "data": {
      "text/plain": [
       "<AxesSubplot:xlabel='Frequency', ylabel='Sound_pressure_level'>"
      ]
     },
     "execution_count": 23,
     "metadata": {},
     "output_type": "execute_result"
    },
    {
     "data": {
      "image/png": "[encoded data removed]",
      "text/plain": [
       "<Figure size 432x288 with 1 Axes>"
      ]
     },
     "metadata": {
      "needs_background": "light"
     },
     "output_type": "display_data"
    }
   ],
   "source": [
    "sns.scatterplot(X_train[\"Frequency\"],y_train)"
   ]
  },
  {
   "cell_type": "code",
   "execution_count": null,
   "id": "87379d64",
   "metadata": {},
   "outputs": [],
   "source": []
  },
  {
   "cell_type": "code",
   "execution_count": null,
   "id": "910d94db",
   "metadata": {},
   "outputs": [],
   "source": []
  },
  {
   "cell_type": "code",
   "execution_count": 24,
   "id": "ee1a74e4",
   "metadata": {},
   "outputs": [
    {
     "name": "stderr",
     "output_type": "stream",
     "text": [
      "C:\\ANACONDA3\\lib\\site-packages\\seaborn\\_decorators.py:36: FutureWarning: Pass the following variable as a keyword arg: x. From version 0.12, the only valid positional argument will be `data`, and passing other arguments without an explicit keyword will result in an error or misinterpretation.\n",
      "  warnings.warn(\n"
     ]
    },
    {
     "data": {
      "text/plain": [
       "<AxesSubplot:xlabel='AngleofAttack'>"
      ]
     },
     "execution_count": 24,
     "metadata": {},
     "output_type": "execute_result"
    },
    {
     "data": {
      "image/png": "[encoded data removed]",
      "text/plain": [
       "<Figure size 432x288 with 1 Axes>"
      ]
     },
     "metadata": {
      "needs_background": "light"
     },
     "output_type": "display_data"
    }
   ],
   "source": [
    "sns.boxplot(X_train[\"AngleofAttack\"])"
   ]
  },
  {
   "cell_type": "code",
   "execution_count": 25,
   "id": "166df558",
   "metadata": {},
   "outputs": [
    {
     "data": {
      "text/plain": [
       "array([126.201, 125.201, 125.951, ..., 106.604, 106.224, 104.204])"
      ]
     },
     "execution_count": 25,
     "metadata": {},
     "output_type": "execute_result"
    }
   ],
   "source": [
    "df[\"Sound_pressure_level\"].unique()"
   ]
  },
  {
   "cell_type": "code",
   "execution_count": 26,
   "id": "f7412dd2",
   "metadata": {},
   "outputs": [
    {
     "data": {
      "text/plain": [
       "1456"
      ]
     },
     "execution_count": 26,
     "metadata": {},
     "output_type": "execute_result"
    }
   ],
   "source": [
    "len(df[\"Sound_pressure_level\"].unique())"
   ]
  },
  {
   "cell_type": "code",
   "execution_count": 27,
   "id": "09bf9b86",
   "metadata": {},
   "outputs": [
    {
     "name": "stderr",
     "output_type": "stream",
     "text": [
      "C:\\ANACONDA3\\lib\\site-packages\\seaborn\\_decorators.py:36: FutureWarning: Pass the following variable as a keyword arg: x. From version 0.12, the only valid positional argument will be `data`, and passing other arguments without an explicit keyword will result in an error or misinterpretation.\n",
      "  warnings.warn(\n"
     ]
    },
    {
     "data": {
      "text/plain": [
       "<AxesSubplot:xlabel='Sound_pressure_level'>"
      ]
     },
     "execution_count": 27,
     "metadata": {},
     "output_type": "execute_result"
    },
    {
     "data": {
      "image/png": "[encoded data removed]",
      "text/plain": [
       "<Figure size 432x288 with 1 Axes>"
      ]
     },
     "metadata": {
      "needs_background": "light"
     },
     "output_type": "display_data"
    }
   ],
   "source": [
    "sns.boxplot(df[\"Sound_pressure_level\"])"
   ]
  },
  {
   "cell_type": "code",
   "execution_count": 28,
   "id": "711371fc",
   "metadata": {},
   "outputs": [],
   "source": [
    "from sklearn.linear_model import LinearRegression"
   ]
  },
  {
   "cell_type": "code",
   "execution_count": 29,
   "id": "fa0d080a",
   "metadata": {},
   "outputs": [
    {
     "name": "stdout",
     "output_type": "stream",
     "text": [
      "Requirement already satisfied: xgboost in c:\\anaconda3\\lib\\site-packages (1.7.2)\n",
      "Requirement already satisfied: numpy in c:\\anaconda3\\lib\\site-packages (from xgboost) (1.21.5)\n",
      "Requirement already satisfied: scipy in c:\\anaconda3\\lib\\site-packages (from xgboost) (1.7.3)\n",
      "Note: you may need to restart the kernel to use updated packages.\n"
     ]
    }
   ],
   "source": [
    "pip install xgboost"
   ]
  },
  {
   "cell_type": "code",
   "execution_count": 30,
   "id": "b8eb52df",
   "metadata": {},
   "outputs": [],
   "source": [
    "from sklearn.model_selection import train_test_split\n",
    "from sklearn.metrics import mean_absolute_error ,mean_squared_error, median_absolute_error,confusion_matrix,accuracy_score,r2_score\n",
    "from sklearn.linear_model import LinearRegression ,ARDRegression\n",
    "from sklearn.tree import DecisionTreeRegressor\n",
    "from sklearn.neighbors import KNeighborsRegressor\n",
    "from sklearn.ensemble import RandomForestRegressor\n",
    "from sklearn.neural_network import MLPRegressor\n",
    "from sklearn.svm import SVR\n",
    "from xgboost import XGBRegressor\n",
    "from sklearn.preprocessing import LabelEncoder,StandardScaler"
   ]
  },
  {
   "cell_type": "code",
   "execution_count": null,
   "id": "c54020f9",
   "metadata": {},
   "outputs": [],
   "source": []
  },
  {
   "cell_type": "code",
   "execution_count": null,
   "id": "8b935ee9",
   "metadata": {},
   "outputs": [],
   "source": []
  },
  {
   "cell_type": "code",
   "execution_count": 31,
   "id": "7c987c68",
   "metadata": {},
   "outputs": [],
   "source": [
    "LR = LinearRegression()\n",
    "DTR = DecisionTreeRegressor()\n",
    "RFR = RandomForestRegressor()\n",
    "KNR = KNeighborsRegressor()"
   ]
  },
  {
   "cell_type": "code",
   "execution_count": 32,
   "id": "e091e0e4",
   "metadata": {},
   "outputs": [
    {
     "name": "stdout",
     "output_type": "stream",
     "text": [
      "LinearRegression() : 53.43918487913797\n"
     ]
    }
   ],
   "source": [
    "d={}\n",
    "l=LR.fit(X_train,y_train)\n",
    "ypred = LR.predict(X_test)\n",
    "print(LR,\":\",r2_score(y_test,ypred)*100)\n",
    "d.update({str(LR):LR.score(X_test,y_test)*100})"
   ]
  },
  {
   "cell_type": "code",
   "execution_count": 33,
   "id": "1ea8bb78",
   "metadata": {},
   "outputs": [
    {
     "name": "stdout",
     "output_type": "stream",
     "text": [
      "LinearRegression() : 53.43918487913797\n",
      "DecisionTreeRegressor() : 86.88690938454442\n",
      "RandomForestRegressor() : 92.25076431775065\n",
      "KNeighborsRegressor() : 20.279928311888472\n"
     ]
    }
   ],
   "source": [
    "li = [LR,DTR,RFR,KNR]\n",
    "d = {}\n",
    "for i in li:\n",
    "    i.fit(X_train,y_train)\n",
    "    ypred = i.predict(X_test)\n",
    "    print(i,\":\",r2_score(y_test,ypred)*100)\n",
    "    d.update({str(i):i.score(X_test,y_test)*100})"
   ]
  },
  {
   "cell_type": "code",
   "execution_count": 34,
   "id": "38bdff5e",
   "metadata": {},
   "outputs": [
    {
     "data": {
      "image/png": "[encoded data removed]",
      "text/plain": [
       "<Figure size 2160x432 with 1 Axes>"
      ]
     },
     "metadata": {
      "needs_background": "light"
     },
     "output_type": "display_data"
    }
   ],
   "source": [
    "plt.figure(figsize=(30, 6))\n",
    "plt.title(\"Algorithm vs Accuracy\")\n",
    "plt.xlabel(\"Algorithm\")\n",
    "plt.ylabel(\"Accuracy\")\n",
    "plt.plot(d.keys(),d.values(),marker='o',color='red')\n",
    "plt.show()"
   ]
  },
  {
   "cell_type": "markdown",
   "id": "b57bb04b",
   "metadata": {},
   "source": [
    "# LinearRegression() : 53.43918487913797\n"
   ]
  },
  {
   "cell_type": "markdown",
   "id": "f2288596",
   "metadata": {},
   "source": [
    "# DecisionTreeRegressor() : 85.9270061168454\n"
   ]
  },
  {
   "cell_type": "markdown",
   "id": "b4ead1d7",
   "metadata": {},
   "source": [
    "# RandomForestRegressor() : 92.5704014794084\n"
   ]
  },
  {
   "cell_type": "markdown",
   "id": "04024dfa",
   "metadata": {},
   "source": [
    "# KNeighborsRegressor() : 20.279928311888472\n"
   ]
  },
  {
   "cell_type": "markdown",
   "id": "ec1b903e",
   "metadata": {},
   "source": []
  },
  {
   "cell_type": "code",
   "execution_count": 35,
   "id": "909554ec",
   "metadata": {},
   "outputs": [],
   "source": [
    "import pickle\n",
    "pickle.dump(l,open(\"model.pkl\",\"wb\"))\n"
   ]
  },
  {
   "cell_type": "code",
   "execution_count": 36,
   "id": "4f18db52",
   "metadata": {},
   "outputs": [
    {
     "data": {
      "text/plain": [
       "array([115.08461614, 123.81418653, 122.52975722, 126.23076004,\n",
       "       126.90599498, 128.0339243 , 122.53379394, 132.9757874 ,\n",
       "       129.82916079, 131.31083576, 132.28098868, 115.26537816,\n",
       "       128.51666814, 132.59306504, 117.80558588, 132.39352023,\n",
       "       130.8717886 , 121.18185859, 120.06856451, 121.44460404,\n",
       "       120.53177906, 128.69652207, 127.68930596, 131.63669636,\n",
       "       124.64977136, 121.81845419, 128.02402458, 117.34525267,\n",
       "       124.70190539, 122.3812931 , 119.26408245, 128.47747678,\n",
       "       126.77565074, 123.91542837, 110.73067899, 127.94669308,\n",
       "       121.78426811, 130.59289977, 115.57769411, 120.71206467,\n",
       "       124.57000025, 120.67938717, 129.52298334, 124.86888478,\n",
       "       124.16876593, 121.27373742, 119.1773833 , 115.50860186,\n",
       "       130.35806153, 125.81698671, 128.4204449 , 122.27191981,\n",
       "       122.49851144, 129.63323765, 124.93418873, 120.51333121,\n",
       "       126.25221796, 120.91015992, 130.92873485, 126.7344402 ,\n",
       "       123.53660409, 128.58108087, 127.40752168, 123.79074266,\n",
       "       123.8937711 , 133.61461447, 124.05148885, 113.54731934,\n",
       "       128.81579135, 127.58859603, 127.44737522, 125.05766187,\n",
       "       126.20029887, 130.40735789, 118.92813292, 122.97484787,\n",
       "       126.68696488, 122.23372902, 125.33157507, 122.91618929,\n",
       "       122.92482666, 129.26918404, 113.88321899, 124.239187  ,\n",
       "       129.92090524, 124.83068873, 127.17198649, 128.67186081,\n",
       "       118.5431437 , 122.8718045 , 129.87704912, 117.53820241,\n",
       "       127.28277909, 120.65967304, 126.24821592, 128.01045946,\n",
       "       127.72185718, 120.08714299, 127.29366155, 131.8109996 ,\n",
       "       112.35682601, 124.90593211, 123.62799974, 135.50996038,\n",
       "       127.94999861, 132.90307558, 121.90383179, 133.32889707,\n",
       "       121.68432177, 119.12179388, 124.00970289, 132.15711112,\n",
       "       123.80142093, 120.04695961, 118.11548667, 124.31647269,\n",
       "       111.80618979, 131.12425121, 131.49892324, 126.49831961,\n",
       "       127.13048918, 127.49989498, 121.41723053, 122.76101189,\n",
       "       118.1957697 , 121.8017497 , 123.58751988, 110.90977913,\n",
       "       125.91666001, 130.3731845 , 129.52987252, 120.73200608,\n",
       "       122.46122014, 118.37964445, 119.78220236, 130.70507008,\n",
       "       126.61312468, 123.77026317, 111.32963669, 129.88011355,\n",
       "       116.64874703, 120.64818991, 112.65849335, 125.41968808,\n",
       "       125.09943188, 118.71067135, 129.27813196, 121.04390426,\n",
       "       127.03973932, 127.19215882, 124.01760179, 129.72417597,\n",
       "       123.49613557, 132.20402884, 130.79802026, 121.39058539,\n",
       "       131.31830992, 123.45527271, 119.03714118, 126.19377065,\n",
       "       129.25013549, 123.25068726, 124.51884716, 119.3715044 ,\n",
       "       127.31877035, 121.82381514, 125.04806942, 131.40928196,\n",
       "       132.31117206, 131.65945086, 133.83046381, 126.082719  ,\n",
       "       126.70833295, 121.2214127 , 123.75086982, 123.20238134,\n",
       "       132.06023462, 116.62145185, 121.73882922, 127.19139478,\n",
       "       125.61275418, 126.88935233, 121.83522147, 119.00058263,\n",
       "       125.04119619, 124.6913926 , 127.37828989, 123.19641478,\n",
       "       129.78476548, 128.42495702, 132.85375352, 122.25005565,\n",
       "       129.55948364, 124.9358718 , 121.70232892, 129.71718139,\n",
       "       125.50794546, 132.5270214 , 126.88614471, 114.22430217,\n",
       "       125.51647129, 125.69320005, 126.97094554, 127.96181606,\n",
       "       116.72668796, 127.85671339, 127.23346457, 113.58565738,\n",
       "       128.77640066, 133.21108062, 126.0421474 , 134.98861042,\n",
       "       122.75120337, 127.36750285, 133.14395025, 120.42839768,\n",
       "       125.34786117, 126.477163  , 119.33997118, 128.23913181,\n",
       "       126.62591727, 130.13555459, 129.75988263, 125.3418641 ,\n",
       "       129.18679762, 127.68059038, 125.32167859, 119.49334602,\n",
       "       122.38356128, 117.38675002, 131.37907231, 129.7748408 ,\n",
       "       124.24413965, 120.17748043, 125.7568584 , 122.26199998,\n",
       "       121.00099839, 120.02766597, 125.3009126 , 122.81971077,\n",
       "       135.42693271, 121.97858019, 128.02164894, 114.43289494,\n",
       "       118.73043355, 127.43267497, 129.76183786, 124.49051764,\n",
       "       126.04700426, 120.34339636, 132.16636845, 129.17333355,\n",
       "       120.37509732, 124.97083465, 122.68281662, 132.16915055,\n",
       "       124.88553106, 121.78023631, 131.47368554, 120.60385868,\n",
       "       125.93181327, 125.57445949, 124.89685647, 116.54340631,\n",
       "       132.68251472, 124.1275554 , 125.77426998, 127.99813486,\n",
       "       127.02675962, 123.34108773, 122.68250417, 125.70938307,\n",
       "       112.91096188, 130.82642575, 119.50314335, 123.28004397,\n",
       "       124.7792766 , 122.8842413 , 125.31413731, 128.98151645,\n",
       "       131.0174807 , 117.51541368, 123.63142622, 124.61539117,\n",
       "       123.89562118, 122.68716968, 124.05541443, 124.58527401,\n",
       "       123.04129597, 133.28875387, 130.40754087, 135.16624423,\n",
       "       126.46979342, 120.00939829, 123.84045944, 124.34337313,\n",
       "       128.1246071 , 122.38820952, 117.93116016, 127.27611854,\n",
       "       125.92235532, 135.47088411, 122.10609691, 122.46849481,\n",
       "       109.39988735, 117.469047  , 119.50203962, 116.59616981,\n",
       "       122.29703071, 129.62356587, 129.24190228, 120.59979048,\n",
       "       119.62684421, 129.12309677, 128.71078283, 125.743907  ,\n",
       "       124.43718233, 126.15779686, 125.24764557, 127.99799497,\n",
       "       123.86290861, 120.22971992, 126.45751805, 128.53690698,\n",
       "       126.56156611, 130.8122133 , 131.55230764, 124.8913014 ,\n",
       "       131.63108599, 131.77387248, 119.83448252, 126.44008443,\n",
       "       131.1877691 , 129.63575398, 123.74221882, 128.77218751,\n",
       "       117.28091659, 120.50649702, 123.26235333, 119.70180536,\n",
       "       130.79693296, 116.24453734, 132.54683163, 131.03952746,\n",
       "       122.49409569, 125.84646659, 105.69600952, 120.80668631,\n",
       "       128.7171287 , 103.73019555, 122.23963493, 132.1649052 ,\n",
       "       130.37131456, 123.36992602, 123.91221354, 113.72526395,\n",
       "       121.49104002, 116.43306915, 125.08647864, 122.26446809,\n",
       "       118.97673896, 125.0921858 , 127.01282548, 130.18595566,\n",
       "       120.60127206, 125.53519133, 124.2866539 , 134.33433515,\n",
       "       127.24486503, 133.13479173, 126.56499269, 126.50233207,\n",
       "       119.47070429, 116.06219795, 128.15546248, 124.60493926])"
      ]
     },
     "execution_count": 36,
     "metadata": {},
     "output_type": "execute_result"
    }
   ],
   "source": [
    "pm=pickle.load(open('model.pkl','rb'))\n",
    "pm.predict(X_test)"
   ]
  },
  {
   "cell_type": "code",
   "execution_count": 37,
   "id": "8ac1b988",
   "metadata": {},
   "outputs": [
    {
     "data": {
      "text/html": [
       "<div>\n",
       "<style scoped>\n",
       "    .dataframe tbody tr th:only-of-type {\n",
       "        vertical-align: middle;\n",
       "    }\n",
       "\n",
       "    .dataframe tbody tr th {\n",
       "        vertical-align: top;\n",
       "    }\n",
       "\n",
       "    .dataframe thead th {\n",
       "        text-align: right;\n",
       "    }\n",
       "</style>\n",
       "<table border=\"1\" class=\"dataframe\">\n",
       "  <thead>\n",
       "    <tr style=\"text-align: right;\">\n",
       "      <th></th>\n",
       "      <th>Frequency</th>\n",
       "      <th>AngleofAttack</th>\n",
       "      <th>ChordLen</th>\n",
       "      <th>Free_steam_velocity</th>\n",
       "      <th>Suction_displacemnt</th>\n",
       "    </tr>\n",
       "  </thead>\n",
       "  <tbody>\n",
       "    <tr>\n",
       "      <th>0</th>\n",
       "      <td>800</td>\n",
       "      <td>0.0</td>\n",
       "      <td>0.3048</td>\n",
       "      <td>71.3</td>\n",
       "      <td>0.002663</td>\n",
       "    </tr>\n",
       "    <tr>\n",
       "      <th>1</th>\n",
       "      <td>1000</td>\n",
       "      <td>0.0</td>\n",
       "      <td>0.3048</td>\n",
       "      <td>71.3</td>\n",
       "      <td>0.002663</td>\n",
       "    </tr>\n",
       "    <tr>\n",
       "      <th>2</th>\n",
       "      <td>1250</td>\n",
       "      <td>0.0</td>\n",
       "      <td>0.3048</td>\n",
       "      <td>71.3</td>\n",
       "      <td>0.002663</td>\n",
       "    </tr>\n",
       "    <tr>\n",
       "      <th>3</th>\n",
       "      <td>1600</td>\n",
       "      <td>0.0</td>\n",
       "      <td>0.3048</td>\n",
       "      <td>71.3</td>\n",
       "      <td>0.002663</td>\n",
       "    </tr>\n",
       "    <tr>\n",
       "      <th>4</th>\n",
       "      <td>2000</td>\n",
       "      <td>0.0</td>\n",
       "      <td>0.3048</td>\n",
       "      <td>71.3</td>\n",
       "      <td>0.002663</td>\n",
       "    </tr>\n",
       "    <tr>\n",
       "      <th>...</th>\n",
       "      <td>...</td>\n",
       "      <td>...</td>\n",
       "      <td>...</td>\n",
       "      <td>...</td>\n",
       "      <td>...</td>\n",
       "    </tr>\n",
       "    <tr>\n",
       "      <th>1498</th>\n",
       "      <td>2500</td>\n",
       "      <td>15.6</td>\n",
       "      <td>0.1016</td>\n",
       "      <td>39.6</td>\n",
       "      <td>0.052849</td>\n",
       "    </tr>\n",
       "    <tr>\n",
       "      <th>1499</th>\n",
       "      <td>3150</td>\n",
       "      <td>15.6</td>\n",
       "      <td>0.1016</td>\n",
       "      <td>39.6</td>\n",
       "      <td>0.052849</td>\n",
       "    </tr>\n",
       "    <tr>\n",
       "      <th>1500</th>\n",
       "      <td>4000</td>\n",
       "      <td>15.6</td>\n",
       "      <td>0.1016</td>\n",
       "      <td>39.6</td>\n",
       "      <td>0.052849</td>\n",
       "    </tr>\n",
       "    <tr>\n",
       "      <th>1501</th>\n",
       "      <td>5000</td>\n",
       "      <td>15.6</td>\n",
       "      <td>0.1016</td>\n",
       "      <td>39.6</td>\n",
       "      <td>0.052849</td>\n",
       "    </tr>\n",
       "    <tr>\n",
       "      <th>1502</th>\n",
       "      <td>6300</td>\n",
       "      <td>15.6</td>\n",
       "      <td>0.1016</td>\n",
       "      <td>39.6</td>\n",
       "      <td>0.052849</td>\n",
       "    </tr>\n",
       "  </tbody>\n",
       "</table>\n",
       "<p>1503 rows × 5 columns</p>\n",
       "</div>"
      ],
      "text/plain": [
       "      Frequency  AngleofAttack  ChordLen  Free_steam_velocity  \\\n",
       "0           800            0.0    0.3048                 71.3   \n",
       "1          1000            0.0    0.3048                 71.3   \n",
       "2          1250            0.0    0.3048                 71.3   \n",
       "3          1600            0.0    0.3048                 71.3   \n",
       "4          2000            0.0    0.3048                 71.3   \n",
       "...         ...            ...       ...                  ...   \n",
       "1498       2500           15.6    0.1016                 39.6   \n",
       "1499       3150           15.6    0.1016                 39.6   \n",
       "1500       4000           15.6    0.1016                 39.6   \n",
       "1501       5000           15.6    0.1016                 39.6   \n",
       "1502       6300           15.6    0.1016                 39.6   \n",
       "\n",
       "      Suction_displacemnt  \n",
       "0                0.002663  \n",
       "1                0.002663  \n",
       "2                0.002663  \n",
       "3                0.002663  \n",
       "4                0.002663  \n",
       "...                   ...  \n",
       "1498             0.052849  \n",
       "1499             0.052849  \n",
       "1500             0.052849  \n",
       "1501             0.052849  \n",
       "1502             0.052849  \n",
       "\n",
       "[1503 rows x 5 columns]"
      ]
     },
     "execution_count": 37,
     "metadata": {},
     "output_type": "execute_result"
    }
   ],
   "source": [
    "X"
   ]
  },
  {
   "cell_type": "code",
   "execution_count": null,
   "id": "d0086208",
   "metadata": {},
   "outputs": [],
   "source": []
  }
 ],
 "metadata": {
  "kernelspec": {
   "display_name": "Python 3 (ipykernel)",
   "language": "python",
   "name": "python3"
  },
  "language_info": {
   "codemirror_mode": {
    "name": "ipython",
    "version": 3
   },
   "file_extension": ".py",
   "mimetype": "text/x-python",
   "name": "python",
   "nbconvert_exporter": "python",
   "pygments_lexer": "ipython3",
   "version": "3.9.12"
  }
 },
 "nbformat": 4,
 "nbformat_minor": 5
}
